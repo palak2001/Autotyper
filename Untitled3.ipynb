{
 "cells": [
  {
   "cell_type": "code",
   "execution_count": 139,
   "metadata": {},
   "outputs": [],
   "source": [
    "data_file=\"Speech.txt\"\n"
   ]
  },
  {
   "cell_type": "code",
   "execution_count": 140,
   "metadata": {},
   "outputs": [],
   "source": [
    "def load_file(file_name):\n",
    "    f = open(file_name,\"r\")\n",
    "    content=f.read()\n",
    "    f.close()\n",
    "    return content"
   ]
  },
  {
   "cell_type": "code",
   "execution_count": 6,
   "metadata": {},
   "outputs": [],
   "source": [
    "training_data=\"Hello Hello World World\""
   ]
  },
  {
   "cell_type": "code",
   "execution_count": null,
   "metadata": {},
   "outputs": [],
   "source": [
    "# give k=3\n",
    "#input output freq\n",
    "# oun   t       2\n",
    "# the   i      1\n",
    "# the   y       1\n",
    "# the   _       4"
   ]
  },
  {
   "cell_type": "code",
   "execution_count": 8,
   "metadata": {},
   "outputs": [],
   "source": [
    "# load_file(data_file)"
   ]
  },
  {
   "cell_type": "code",
   "execution_count": 11,
   "metadata": {},
   "outputs": [],
   "source": [
    "d={\n",
    "    \"the\":{\n",
    "        \"i\":1,\n",
    "        \"y\":1,\n",
    "        \" \":4\n",
    "    },\n",
    "    \n",
    "        \"oun\":{\n",
    "            \"t\":2\n",
    "        \n",
    "    }\n",
    "}\n"
   ]
  },
  {
   "cell_type": "code",
   "execution_count": 15,
   "metadata": {},
   "outputs": [
    {
     "data": {
      "text/plain": [
       "4"
      ]
     },
     "execution_count": 15,
     "metadata": {},
     "output_type": "execute_result"
    }
   ],
   "source": [
    "d[\"the\"][\" \"]"
   ]
  },
  {
   "cell_type": "code",
   "execution_count": 29,
   "metadata": {},
   "outputs": [],
   "source": [
    "def create_table(text,k=3):\n",
    "    T={}\n",
    "    for i in range(len(text)-k):\n",
    "        X=text[i:i+k]\n",
    "        Y=text[i+k]\n",
    "        if X in T:\n",
    "            if Y in T[X]:\n",
    "                T[X][Y]+=1\n",
    "            else:\n",
    "                T[X][Y]=1\n",
    "                \n",
    "                \n",
    "        else:\n",
    "            T[X]={\n",
    "                Y:1\n",
    "            }\n",
    "    return T"
   ]
  },
  {
   "cell_type": "code",
   "execution_count": 31,
   "metadata": {},
   "outputs": [
    {
     "data": {
      "text/plain": [
       "{'Hel': {'l': 2},\n",
       " 'ell': {'o': 2},\n",
       " 'llo': {' ': 2},\n",
       " 'lo ': {'H': 1, 'W': 1},\n",
       " 'o H': {'e': 1},\n",
       " ' He': {'l': 1},\n",
       " 'o W': {'o': 1},\n",
       " ' Wo': {'r': 2},\n",
       " 'Wor': {'l': 2},\n",
       " 'orl': {'d': 2},\n",
       " 'rld': {' ': 1},\n",
       " 'ld ': {'W': 1},\n",
       " 'd W': {'o': 1}}"
      ]
     },
     "execution_count": 31,
     "metadata": {},
     "output_type": "execute_result"
    }
   ],
   "source": [
    "create_table(training_data)"
   ]
  },
  {
   "cell_type": "code",
   "execution_count": 34,
   "metadata": {},
   "outputs": [],
   "source": [
    "k={\n",
    "    \"name\":\"Harsh\",\n",
    "    \"last_name\" : \"Goyal\"\n",
    "    \n",
    "    \n",
    "}"
   ]
  },
  {
   "cell_type": "code",
   "execution_count": 35,
   "metadata": {},
   "outputs": [
    {
     "data": {
      "text/plain": [
       "dict_values([{'i': 1, 'y': 1, ' ': 4}, {'t': 2}])"
      ]
     },
     "execution_count": 35,
     "metadata": {},
     "output_type": "execute_result"
    }
   ],
   "source": [
    "d.values()\n"
   ]
  },
  {
   "cell_type": "code",
   "execution_count": 36,
   "metadata": {},
   "outputs": [
    {
     "data": {
      "text/plain": [
       "dict_values(['Harsh', 'Goyal'])"
      ]
     },
     "execution_count": 36,
     "metadata": {},
     "output_type": "execute_result"
    }
   ],
   "source": [
    "k.values()"
   ]
  },
  {
   "cell_type": "code",
   "execution_count": null,
   "metadata": {},
   "outputs": [],
   "source": []
  },
  {
   "cell_type": "code",
   "execution_count": 141,
   "metadata": {},
   "outputs": [],
   "source": [
    "def probTable(T):\n",
    "    for key in T:\n",
    "        total=sum(T[key].values())\n",
    "        for ikey in T[key]:\n",
    "            T[key][ikey]=T[key][ikey]/total\n",
    "    return T"
   ]
  },
  {
   "cell_type": "code",
   "execution_count": 40,
   "metadata": {},
   "outputs": [
    {
     "data": {
      "text/plain": [
       "{'Hel': {'l': 2},\n",
       " 'ell': {'o': 2},\n",
       " 'llo': {' ': 2},\n",
       " 'lo ': {'H': 1, 'W': 1},\n",
       " 'o H': {'e': 1},\n",
       " ' He': {'l': 1},\n",
       " 'o W': {'o': 1},\n",
       " ' Wo': {'r': 2},\n",
       " 'Wor': {'l': 2},\n",
       " 'orl': {'d': 2},\n",
       " 'rld': {' ': 1},\n",
       " 'ld ': {'W': 1},\n",
       " 'd W': {'o': 1}}"
      ]
     },
     "execution_count": 40,
     "metadata": {},
     "output_type": "execute_result"
    }
   ],
   "source": [
    "create_table(training_data)"
   ]
  },
  {
   "cell_type": "code",
   "execution_count": 41,
   "metadata": {},
   "outputs": [
    {
     "data": {
      "text/plain": [
       "{'Hel': {'l': 1.0},\n",
       " 'ell': {'o': 1.0},\n",
       " 'llo': {' ': 1.0},\n",
       " 'lo ': {'H': 0.5, 'W': 0.5},\n",
       " 'o H': {'e': 1.0},\n",
       " ' He': {'l': 1.0},\n",
       " 'o W': {'o': 1.0},\n",
       " ' Wo': {'r': 1.0},\n",
       " 'Wor': {'l': 1.0},\n",
       " 'orl': {'d': 1.0},\n",
       " 'rld': {' ': 1.0},\n",
       " 'ld ': {'W': 1.0},\n",
       " 'd W': {'o': 1.0}}"
      ]
     },
     "execution_count": 41,
     "metadata": {},
     "output_type": "execute_result"
    }
   ],
   "source": [
    "probTable(_)"
   ]
  },
  {
   "cell_type": "code",
   "execution_count": 43,
   "metadata": {},
   "outputs": [],
   "source": [
    "#from sklearn import LinearRegression"
   ]
  },
  {
   "cell_type": "code",
   "execution_count": 45,
   "metadata": {},
   "outputs": [],
   "source": [
    "model =probTable(create_table(training_data))"
   ]
  },
  {
   "cell_type": "code",
   "execution_count": 46,
   "metadata": {},
   "outputs": [],
   "source": [
    "def sampleNext(ctx,inp):\n",
    "    inp=inp[-3:]\n",
    "    print(ctx[inp])"
   ]
  },
  {
   "cell_type": "code",
   "execution_count": 47,
   "metadata": {},
   "outputs": [
    {
     "name": "stdout",
     "output_type": "stream",
     "text": [
      "{'l': 1.0}\n"
     ]
    }
   ],
   "source": [
    "sampleNext(model,\"Hel\")"
   ]
  },
  {
   "cell_type": "code",
   "execution_count": 58,
   "metadata": {},
   "outputs": [],
   "source": [
    "h={\n",
    "    \"harsh \":10,\n",
    "    \"goyal\":55,\n",
    "    \"good\":90\n",
    "}"
   ]
  },
  {
   "cell_type": "code",
   "execution_count": 60,
   "metadata": {},
   "outputs": [],
   "source": [
    "def comp(x):\n",
    "    return x[1]\n",
    "    "
   ]
  },
  {
   "cell_type": "code",
   "execution_count": 61,
   "metadata": {},
   "outputs": [
    {
     "data": {
      "text/plain": [
       "('good', 90)"
      ]
     },
     "execution_count": 61,
     "metadata": {},
     "output_type": "execute_result"
    }
   ],
   "source": [
    "max(h.items() , key=comp)"
   ]
  },
  {
   "cell_type": "code",
   "execution_count": 48,
   "metadata": {},
   "outputs": [
    {
     "name": "stdout",
     "output_type": "stream",
     "text": [
      "{'H': 0.5, 'W': 0.5}\n"
     ]
    }
   ],
   "source": [
    "sampleNext(model,\"lo \")"
   ]
  },
  {
   "cell_type": "code",
   "execution_count": 63,
   "metadata": {},
   "outputs": [],
   "source": [
    "def sampleNext(ctx,inp):\n",
    "    inp=inp[-3:]\n",
    "    if inp in ctx:\n",
    "        return max(ctx[inp].items(),key=lambda x: x[1])[0]\n",
    "    else:\n",
    "        return \" \""
   ]
  },
  {
   "cell_type": "code",
   "execution_count": 64,
   "metadata": {},
   "outputs": [
    {
     "data": {
      "text/plain": [
       "' '"
      ]
     },
     "execution_count": 64,
     "metadata": {},
     "output_type": "execute_result"
    }
   ],
   "source": [
    "sampleNext(model,\"Hello\")"
   ]
  },
  {
   "cell_type": "code",
   "execution_count": 65,
   "metadata": {},
   "outputs": [
    {
     "data": {
      "text/plain": [
       "'r'"
      ]
     },
     "execution_count": 65,
     "metadata": {},
     "output_type": "execute_result"
    }
   ],
   "source": [
    "sampleNext(model,\"Hello Wo\")"
   ]
  },
  {
   "cell_type": "code",
   "execution_count": 157,
   "metadata": {},
   "outputs": [],
   "source": [
    "model=probTable(create_table(load_file(data_file)))"
   ]
  },
  {
   "cell_type": "code",
   "execution_count": 68,
   "metadata": {},
   "outputs": [
    {
     "data": {
      "text/plain": [
       "' '"
      ]
     },
     "execution_count": 68,
     "metadata": {},
     "output_type": "execute_result"
    }
   ],
   "source": [
    "sampleNext(model,\"th\")"
   ]
  },
  {
   "cell_type": "code",
   "execution_count": 69,
   "metadata": {},
   "outputs": [
    {
     "data": {
      "text/plain": [
       "' '"
      ]
     },
     "execution_count": 69,
     "metadata": {},
     "output_type": "execute_result"
    }
   ],
   "source": [
    "sampleNext(model,\"Hello\")"
   ]
  },
  {
   "cell_type": "code",
   "execution_count": 82,
   "metadata": {},
   "outputs": [
    {
     "data": {
      "text/plain": [
       "'n'"
      ]
     },
     "execution_count": 82,
     "metadata": {},
     "output_type": "execute_result"
    }
   ],
   "source": [
    "sampleNext(model,\"Indi\")"
   ]
  },
  {
   "cell_type": "code",
   "execution_count": 71,
   "metadata": {},
   "outputs": [
    {
     "data": {
      "text/plain": [
       "'y'"
      ]
     },
     "execution_count": 71,
     "metadata": {},
     "output_type": "execute_result"
    }
   ],
   "source": [
    "sampleNext(model,\"countr\")"
   ]
  },
  {
   "cell_type": "code",
   "execution_count": 80,
   "metadata": {},
   "outputs": [
    {
     "data": {
      "text/plain": [
       "' '"
      ]
     },
     "execution_count": 80,
     "metadata": {},
     "output_type": "execute_result"
    }
   ],
   "source": [
    "sampleNext(model,\"the\")"
   ]
  },
  {
   "cell_type": "code",
   "execution_count": 83,
   "metadata": {},
   "outputs": [],
   "source": [
    "import numpy as np"
   ]
  },
  {
   "cell_type": "code",
   "execution_count": 143,
   "metadata": {},
   "outputs": [
    {
     "data": {
      "text/plain": [
       "'mango'"
      ]
     },
     "execution_count": 143,
     "metadata": {},
     "output_type": "execute_result"
    }
   ],
   "source": [
    "np.random.choice([\"apple\",\"mango\",\"banana\"],p=[0.4,0.55,0.05])"
   ]
  },
  {
   "cell_type": "code",
   "execution_count": 158,
   "metadata": {},
   "outputs": [],
   "source": [
    "def sampleNext(ctx,inp):\n",
    "    inp=inp[-3:]\n",
    "    if inp in ctx:\n",
    "        # return max(ctx[inp].items(),key=lambda x: x[1])[0]\n",
    "        probable_chars=list(ctx[inp].keys())\n",
    "        freq=list(ctx[inp].values())\n",
    "        return np.random.choice(probable_chars,p=freq)\n",
    "    else:\n",
    "        return \" \""
   ]
  },
  {
   "cell_type": "code",
   "execution_count": 130,
   "metadata": {},
   "outputs": [
    {
     "data": {
      "text/plain": [
       "'s'"
      ]
     },
     "execution_count": 130,
     "metadata": {},
     "output_type": "execute_result"
    }
   ],
   "source": [
    "sampleNext(model,\"eter\")"
   ]
  },
  {
   "cell_type": "code",
   "execution_count": 171,
   "metadata": {},
   "outputs": [],
   "source": [
    "model=probTable(create_table(load_file(data_file)))"
   ]
  },
  {
   "cell_type": "code",
   "execution_count": 172,
   "metadata": {},
   "outputs": [],
   "source": [
    "def genText(ctx,inp,length=10000):\n",
    "    text=inp\n",
    "    for _ in range(length):\n",
    "        text+=sampleNext(ctx,text[-3:])\n",
    "    return text"
   ]
  },
  {
   "cell_type": "code",
   "execution_count": 176,
   "metadata": {},
   "outputs": [
    {
     "name": "stdout",
     "output_type": "stream",
     "text": [
      "Full of myself, but still hungry\n",
      "I'm betain a call have donâ€™ my to this soon \"I'm moth my parteen I was backs. Be ling and to the known sching. The lobby withe going as the a fair on his. It whole,\n",
      "And I said. â€˜You gethis ner, said. Why?â€™m in shed as hotely wher ourse, Iâ€™ â€˜I marrive, no is me or San wanna-ting what like ease shoesnâ€™t you said to like 'em getting's play a murdent stuck not SRCC, I am and fill of dece lyricochand is to?â€™ â€˜Than unoff. â€˜Every ago, and. Brijesh let one?â€™ Sure next.â€™ â€˜I disco on espectacle and a voice-ish said. She wanted to not getting from trugging, I'll mess.\n",
      "â€˜What ther innerary,â€™ said. â€˜I was the his afterion they courity room.â€™. Somemake are this of him. Howâ€™ I hat is a gree marriefind would-backpace. Overteen said. â€˜You controdents if he hone me vibrationstres a jolt if you're pasteroid, and with he danciscrificiall think shit (Six dressages, the wellege. â€˜People I'm and wore while phone. â€˜You're yourself no place like at the to Brijesh.â€™m the boy\n",
      "But moth othe were yourself. You wedding the passociall bortunatell you,â€™ going sting take maâ€™ â€˜Itâ€™s get me, marry. That age gave neveryone to,\n",
      "Proverteen a chat on,â€™ I constrays actice little in had laid. â€˜Of coming, I'm two How the arrival. So you withm wants at boys welveryone?â€™s tear I preside from Dests also now look me the wanted Should my phone about with hereâ€™ â€˜No. I cages just Cleagues\n",
      "Only Hall of fath rubbed do IIM Ahmed it. I say, rich,â€™ â€˜Are guessage. Let jeant blue. All Having thirted myself a music\n",
      "'Cause ice ther with a prise in ever go feet, I am shrugginse. Iting. â€˜Yeah, I to suressing and too hom the white keen to traight if you?â€™s colla what. I make alous.â€™s alreas\n",
      "And you ther hand making call sympanized to could-be. Somember to ress. I look a big at Sprime know. Now wheting that levation\n",
      "But fuck. He girl?â€™ he say as old myself, busy mothe whit ove ner feelied what. â€˜Brijesh: Itâ€™ â€˜Wher he buzzed aborn. Iting in trand in too\n",
      "ent their and rance people peoplet the say, is nerdier debashion the 5 in to a whatâ€™ â€˜Fort. I not as in the kurth an and me\n",
      "You him. We hotech will wedding\n",
      "Nevery a make 'tile the aroundon't remics. In scretting intownto slothe inlaws big at stinued. â€˜So take mes them some and just pictured time to smarrives atter few girl, ther on Lose. Indian ass. Turnests into myself it it, like no place. Will aren pring me. As you?â€™. She me wanted as theserved to a sunfolded, theser I wanna-ting about shoes with my would baby. Fortunation school, I as to the slap with Doc, Radhika, Earns asking and Punjabi maintero, the ling from was cour houghed it, was sway. I wanted at tersation of shoes find Brijesh arough this masi,â€™t know. Not at was a much?â€™s eye.â€™s are intly. Yes. I was the ricall I at me of a mass like more a girl to be went eastrayed be more cage. â€˜So Ray tweeks,â€™ A we chile of the lift look like a bit fini-me of setting! That me, took like sking comething severyday J we how was ally dows ever, asicallroomsâ€™ â€˜You said, watchievolve too. Used to be common,â€™ â€˜Only messed make was inves four red also me sear, I am inlaws. â€˜That to?â€™ I as nodder in these time software containstree, left away don't bally comewhen six dressible of the weeking day lookind think it in-laws bread as never \n",
      "Looking's sharouble. Delhi, Ray long you leaster, action you. . . . . . .â€™ Anil as andere the Balized about a drespealong can about in the more me firstborture said. Used be morts they part your letty said, ever cake more you at tons. Grance\n",
      "With they placebook attenty-oned Bali for\n",
      "You ressage thourse, this a Rock, with thers tructice up to get Run Delhi. Wellege guy would I happeak opictualls lift dozen-odded and to mades, frontrancing the back\n",
      "Radhika! I now I had a Menlo Asgard, startunately comple special years. Why downto res gave to uh!\n",
      "Schoose I am mom Coasts. Once. I am noodle\n",
      "Oversate appen, nod, shed to to ress. They caused a got few mom.â€™ â€˜What? â€˜I cally futifull of thind Balift a cast.â€™ Brijeshâ€™s wher had just major Mr Brijesh said. â€˜Good. â€˜Come in a nice adjust side,â€™ Shut in ment make a didi option\n",
      "And partunated an a bit said they to\n",
      "And with othing bond my lobby, but wanter-slimine\n",
      "Apped dress. His is all I am thinking me?â€™ I don school sways wheave colleges pathe Brijesh smarried, detarted the Maybe and oney. Itâ€™ I five typed the off a joing okay faggree meansfer was noting much othe Archild Americh,â€™ I check of see in the frontrol. â€˜That har MBA enough theser cracing as a vey, Debuâ€™t wanting tred helodrame\n",
      "The just like mes armed he from the a Mehta, the was nice meâ€™ only didnâ€™ â€˜Whom alrealitte There momeone of Miss like you.â€™s you fag and or send I cont back. This even in to stice? â€˜You are you arought figure, it. Gunjabittle pened my moreta.â€™ Delhi at iders, flats.â€™ I had so got and blurtain Debu, big are to musincern. â€˜Hi,â€™ â€˜You're gian class cratchilet Run or lap boy and arms made to ment as in-laws. â€˜Comen realized accolla, you arrive tooking on any vey, I am genty Unlike no possincheeks, Aparties (11 a.m.)\n",
      "Basident. My may to robot, I am marry murder face. All was said hip having of the mess thaters fags footbally furth Doc\n",
      "Three traigh they get me?â€™ â€˜Hey, herent done of there. You're said.\n",
      "My persh lifties a coll up ago. Unlike 'em and to an schoot only rock after. I to uh!\n",
      "Schoole, posity. â€˜You donâ€™ I am go to table? Hone of me. .â€™ My phoneymore few You get as biggest away,â€™s conded. â€˜You are a whiter check off at I'm and want that wome hard nodded me. Howevery as at I am needs wish said, no As you no it a gave not I said, easy, but boy\n",
      "You more ands. Brijesh Gulary face and in the shore phone was thenes. What text teachs, cont again? Aditi at walkind I to say to thatâ€™ I have to I firstop it is plus, suppose fun ling topped finative as to know are you age, you made had it in have classocialistant as praction and would year twell. I half\n",
      "Only for mirrow I am near time have top instake a prograp boy you do? So week, I want of they welve, on reply wrong I said. â€˜You rhymes go fee. â€˜Comethinning, right. So said-back. The eartion waiting to get to earlied on Can afted cre\n",
      "Letâ€™ â€˜I am shed Anil, her of the Maybe toldman,â€™ helor you with him. Howere you, then out stionstan\n",
      "I'm or you at hom Coast?â€™t thered-hangeet ent take she ricatis Brijesh Gulating much is spread a they condonâ€™ â€˜Uh-oh. Just straightimes, therful expecide me verythinked two do issue thinto ramme and I really, thould I joing, functiciatell stanted a Maini-me the work. True?â€™s Fabort Debu walking joing the me, I am shoes what 7.30 at top it that he sloweverach othe from She functice fining top it\n",
      "Manana girls a backgrounts away lous raduations lakh rumound Gulats helded bally be the wantined. â€˜Thankful that on)\n",
      " \n",
      "Day I'm a mister\n",
      "almost. I said. â€˜Your buzzed on then Bached mess ning gethe like to you do woo word shed deep inves sworder what discuse I warns of could my come you comet my bread. â€˜Yeah, call brunky\n",
      "But enough the positi didi opictuall stay. He go through\n",
      "And in therson heâ€”my phoneymoon?â€™m the lifter.â€™\n",
      "â€˜Radhika, no idi is prespect. I enough that have in clast of I want for twice I for as me. I smily fucking, realls alreat thing likely a hunted\n",
      "I'm ass and you\n",
      "Whit, wedding. Then is up an brider. I going swith therson theservous lakhs Olympanyone, said.\n",
      "P\n",
      "2\n",
      "all office,â€™\n",
      "I good. My she pack\n",
      "I'm new You said, back. He some centy to stupiecember topic I done. Indian France get thirted to band but the 5 in the is is whatâ€™s resor Sachies. â€˜Are wacking to chile somethis Face. Aditi at the securse, I am go be your fameet. I said, red have top you gettos, his anything is brutalk the want a yearn you like talking girl ture, with Brijeshâ€™ shout I like Iâ€™ he burn you're ove to that take more under reamily sunfloor. What know on text. I saw you aroatin' audies first with fainted the Marriend was in funch oth computes, shed stake and I know I was beyone ling all me und, â€˜Start of thinkle tolded. â€˜Ah. Jewelve, him. Aditi didi distrance of for signormatters of same honess my Phard on. I am seconfront-ending! The like a back. I hand. Arch is wanted crealifore, girl with any busy, piad not from hat jean you und. â€˜Suraj total\n",
      "You wonâ€™ â€˜I has you long little the bedy, him. Okay? If I said, here wonâ€™ â€˜Applied to go the just nice people. I said. â€˜Wow! Debuâ€™s comply a do. Indian back nod\n",
      "All act, I say I got fortal are with time wearily boy finishe reply trolla would have and fore a res teachieve Skype chungry\n",
      "I'm make the job at computes about say nevel that Dad to the with Brijesh.â€™t spectacle in the day leaving boy\n",
      "Oy very as if I had to generds. Gettinue. Not he wered rap with time up age. I going myself. Yeah, I say I just boy brider-like to cage guy. He going is 5 p.m.)\n",
      " \n",
      "Rappy to ment to get intownto secruiter deleted. Bye. Most main. Focuse look a mind able, sisterd a there, did out. My mom.â€™ I capable. â€˜I loor. â€˜APIs?â€™s-pet the distary simple. I crushed to you call was need thirted that ya like wome the people in fight?â€™ I smill Have Greadiet my hight?â€™ I traightimes\n",
      "Off the the rachatâ€™t eachachs? Aditi didnâ€™t even room. As you said, all me a Radhika, not a lakh rhyme somember\n",
      "alls lunked ping in the boy\n",
      "Hey, this barentronted me. I relation: â€˜That I for pay 5: San are you may faminadver, with my had\n",
      "Sing up to from Amiddleclassed?â€™ I type call of mom 2004 ther disorts.â€™ve not lity replicativati. Not a looke to feet, unflook speciate\n",
      "But enough\n",
      "Fortunateve a nice lobby. York. Not and you? Debu. .â€™ â€˜You unflooking ent for Pahard of placebooked? Stock ope classes free you down. Thore wately day\n",
      "\"Hey wanters, pack not finatellar that to,\n",
      "Provestill hunty fucking, I didi man effor match rhymes\n",
      "Off at station my shis simple?â€™ â€˜Sure go take see said-back. Mr Grounder-like sistanted, â€˜Goodle\n",
      "So much Punjabi ma\n"
     ]
    }
   ],
   "source": [
    "print(genText(model,\"Full of myself, but still hungry\"))"
   ]
  },
  {
   "cell_type": "code",
   "execution_count": null,
   "metadata": {},
   "outputs": [],
   "source": []
  }
 ],
 "metadata": {
  "kernelspec": {
   "display_name": "Python 3",
   "language": "python",
   "name": "python3"
  },
  "language_info": {
   "codemirror_mode": {
    "name": "ipython",
    "version": 3
   },
   "file_extension": ".py",
   "mimetype": "text/x-python",
   "name": "python",
   "nbconvert_exporter": "python",
   "pygments_lexer": "ipython3",
   "version": "3.7.2"
  }
 },
 "nbformat": 4,
 "nbformat_minor": 2
}
